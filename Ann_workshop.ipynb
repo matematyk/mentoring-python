{
  "nbformat": 4,
  "nbformat_minor": 0,
  "metadata": {
    "colab": {
      "name": "Ann-workshop",
      "provenance": [],
      "collapsed_sections": []
    },
    "kernelspec": {
      "name": "python3",
      "display_name": "Python 3"
    }
  },
  "cells": [
    {
      "cell_type": "code",
      "metadata": {
        "id": "SP3U7g1txR3p"
      },
      "source": [
        "import pandas as pd"
      ],
      "execution_count": null,
      "outputs": []
    },
    {
      "cell_type": "code",
      "metadata": {
        "id": "99k2h_4Hx0_7"
      },
      "source": [
        "titanic = pd.read_csv('https://raw.githubusercontent.com/pandas-dev/pandas/master/doc/data/titanic.csv')"
      ],
      "execution_count": null,
      "outputs": []
    },
    {
      "cell_type": "code",
      "metadata": {
        "colab": {
          "base_uri": "https://localhost:8080/",
          "height": 452
        },
        "id": "r6AGPf_YydpE",
        "outputId": "305ac729-5652-4cff-a31e-185338145201"
      },
      "source": [
        "titanic.tail()"
      ],
      "execution_count": null,
      "outputs": [
        {
          "output_type": "execute_result",
          "data": {
            "text/html": [
              "<div>\n",
              "<style scoped>\n",
              "    .dataframe tbody tr th:only-of-type {\n",
              "        vertical-align: middle;\n",
              "    }\n",
              "\n",
              "    .dataframe tbody tr th {\n",
              "        vertical-align: top;\n",
              "    }\n",
              "\n",
              "    .dataframe thead th {\n",
              "        text-align: right;\n",
              "    }\n",
              "</style>\n",
              "<table border=\"1\" class=\"dataframe\">\n",
              "  <thead>\n",
              "    <tr style=\"text-align: right;\">\n",
              "      <th></th>\n",
              "      <th>PassengerId</th>\n",
              "      <th>Survived</th>\n",
              "      <th>Pclass</th>\n",
              "      <th>Name</th>\n",
              "      <th>Sex</th>\n",
              "      <th>Age</th>\n",
              "      <th>SibSp</th>\n",
              "      <th>Parch</th>\n",
              "      <th>Ticket</th>\n",
              "      <th>Fare</th>\n",
              "      <th>Cabin</th>\n",
              "      <th>Embarked</th>\n",
              "    </tr>\n",
              "  </thead>\n",
              "  <tbody>\n",
              "    <tr>\n",
              "      <th>886</th>\n",
              "      <td>887</td>\n",
              "      <td>0</td>\n",
              "      <td>2</td>\n",
              "      <td>Montvila, Rev. Juozas</td>\n",
              "      <td>male</td>\n",
              "      <td>27.0</td>\n",
              "      <td>0</td>\n",
              "      <td>0</td>\n",
              "      <td>211536</td>\n",
              "      <td>13.00</td>\n",
              "      <td>NaN</td>\n",
              "      <td>S</td>\n",
              "    </tr>\n",
              "    <tr>\n",
              "      <th>887</th>\n",
              "      <td>888</td>\n",
              "      <td>1</td>\n",
              "      <td>1</td>\n",
              "      <td>Graham, Miss. Margaret Edith</td>\n",
              "      <td>female</td>\n",
              "      <td>19.0</td>\n",
              "      <td>0</td>\n",
              "      <td>0</td>\n",
              "      <td>112053</td>\n",
              "      <td>30.00</td>\n",
              "      <td>B42</td>\n",
              "      <td>S</td>\n",
              "    </tr>\n",
              "    <tr>\n",
              "      <th>888</th>\n",
              "      <td>889</td>\n",
              "      <td>0</td>\n",
              "      <td>3</td>\n",
              "      <td>Johnston, Miss. Catherine Helen \"Carrie\"</td>\n",
              "      <td>female</td>\n",
              "      <td>NaN</td>\n",
              "      <td>1</td>\n",
              "      <td>2</td>\n",
              "      <td>W./C. 6607</td>\n",
              "      <td>23.45</td>\n",
              "      <td>NaN</td>\n",
              "      <td>S</td>\n",
              "    </tr>\n",
              "    <tr>\n",
              "      <th>889</th>\n",
              "      <td>890</td>\n",
              "      <td>1</td>\n",
              "      <td>1</td>\n",
              "      <td>Behr, Mr. Karl Howell</td>\n",
              "      <td>male</td>\n",
              "      <td>26.0</td>\n",
              "      <td>0</td>\n",
              "      <td>0</td>\n",
              "      <td>111369</td>\n",
              "      <td>30.00</td>\n",
              "      <td>C148</td>\n",
              "      <td>C</td>\n",
              "    </tr>\n",
              "    <tr>\n",
              "      <th>890</th>\n",
              "      <td>891</td>\n",
              "      <td>0</td>\n",
              "      <td>3</td>\n",
              "      <td>Dooley, Mr. Patrick</td>\n",
              "      <td>male</td>\n",
              "      <td>32.0</td>\n",
              "      <td>0</td>\n",
              "      <td>0</td>\n",
              "      <td>370376</td>\n",
              "      <td>7.75</td>\n",
              "      <td>NaN</td>\n",
              "      <td>Q</td>\n",
              "    </tr>\n",
              "  </tbody>\n",
              "</table>\n",
              "</div>"
            ],
            "text/plain": [
              "     PassengerId  Survived  Pclass  ...   Fare Cabin  Embarked\n",
              "886          887         0       2  ...  13.00   NaN         S\n",
              "887          888         1       1  ...  30.00   B42         S\n",
              "888          889         0       3  ...  23.45   NaN         S\n",
              "889          890         1       1  ...  30.00  C148         C\n",
              "890          891         0       3  ...   7.75   NaN         Q\n",
              "\n",
              "[5 rows x 12 columns]"
            ]
          },
          "metadata": {
            "tags": []
          },
          "execution_count": 4
        }
      ]
    },
    {
      "cell_type": "code",
      "metadata": {
        "colab": {
          "base_uri": "https://localhost:8080/",
          "height": 424
        },
        "id": "QbMwf7i1yvMf",
        "outputId": "5b7c5065-cd9f-482e-d7c1-cda40380dfe4"
      },
      "source": [
        "titanic[[\"Sex\", \"Name\"]]"
      ],
      "execution_count": null,
      "outputs": [
        {
          "output_type": "execute_result",
          "data": {
            "text/html": [
              "<div>\n",
              "<style scoped>\n",
              "    .dataframe tbody tr th:only-of-type {\n",
              "        vertical-align: middle;\n",
              "    }\n",
              "\n",
              "    .dataframe tbody tr th {\n",
              "        vertical-align: top;\n",
              "    }\n",
              "\n",
              "    .dataframe thead th {\n",
              "        text-align: right;\n",
              "    }\n",
              "</style>\n",
              "<table border=\"1\" class=\"dataframe\">\n",
              "  <thead>\n",
              "    <tr style=\"text-align: right;\">\n",
              "      <th></th>\n",
              "      <th>Sex</th>\n",
              "      <th>Name</th>\n",
              "    </tr>\n",
              "  </thead>\n",
              "  <tbody>\n",
              "    <tr>\n",
              "      <th>0</th>\n",
              "      <td>male</td>\n",
              "      <td>Braund, Mr. Owen Harris</td>\n",
              "    </tr>\n",
              "    <tr>\n",
              "      <th>1</th>\n",
              "      <td>female</td>\n",
              "      <td>Cumings, Mrs. John Bradley (Florence Briggs Th...</td>\n",
              "    </tr>\n",
              "    <tr>\n",
              "      <th>2</th>\n",
              "      <td>female</td>\n",
              "      <td>Heikkinen, Miss. Laina</td>\n",
              "    </tr>\n",
              "    <tr>\n",
              "      <th>3</th>\n",
              "      <td>female</td>\n",
              "      <td>Futrelle, Mrs. Jacques Heath (Lily May Peel)</td>\n",
              "    </tr>\n",
              "    <tr>\n",
              "      <th>4</th>\n",
              "      <td>male</td>\n",
              "      <td>Allen, Mr. William Henry</td>\n",
              "    </tr>\n",
              "    <tr>\n",
              "      <th>...</th>\n",
              "      <td>...</td>\n",
              "      <td>...</td>\n",
              "    </tr>\n",
              "    <tr>\n",
              "      <th>886</th>\n",
              "      <td>male</td>\n",
              "      <td>Montvila, Rev. Juozas</td>\n",
              "    </tr>\n",
              "    <tr>\n",
              "      <th>887</th>\n",
              "      <td>female</td>\n",
              "      <td>Graham, Miss. Margaret Edith</td>\n",
              "    </tr>\n",
              "    <tr>\n",
              "      <th>888</th>\n",
              "      <td>female</td>\n",
              "      <td>Johnston, Miss. Catherine Helen \"Carrie\"</td>\n",
              "    </tr>\n",
              "    <tr>\n",
              "      <th>889</th>\n",
              "      <td>male</td>\n",
              "      <td>Behr, Mr. Karl Howell</td>\n",
              "    </tr>\n",
              "    <tr>\n",
              "      <th>890</th>\n",
              "      <td>male</td>\n",
              "      <td>Dooley, Mr. Patrick</td>\n",
              "    </tr>\n",
              "  </tbody>\n",
              "</table>\n",
              "<p>891 rows × 2 columns</p>\n",
              "</div>"
            ],
            "text/plain": [
              "        Sex                                               Name\n",
              "0      male                            Braund, Mr. Owen Harris\n",
              "1    female  Cumings, Mrs. John Bradley (Florence Briggs Th...\n",
              "2    female                             Heikkinen, Miss. Laina\n",
              "3    female       Futrelle, Mrs. Jacques Heath (Lily May Peel)\n",
              "4      male                           Allen, Mr. William Henry\n",
              "..      ...                                                ...\n",
              "886    male                              Montvila, Rev. Juozas\n",
              "887  female                       Graham, Miss. Margaret Edith\n",
              "888  female           Johnston, Miss. Catherine Helen \"Carrie\"\n",
              "889    male                              Behr, Mr. Karl Howell\n",
              "890    male                                Dooley, Mr. Patrick\n",
              "\n",
              "[891 rows x 2 columns]"
            ]
          },
          "metadata": {
            "tags": []
          },
          "execution_count": 10
        }
      ]
    },
    {
      "cell_type": "code",
      "metadata": {
        "colab": {
          "base_uri": "https://localhost:8080/"
        },
        "id": "CpvW5lwkzjDv",
        "outputId": "f2214b29-7faf-473f-c4fe-1ae5a43bd754"
      },
      "source": [
        "titanic[\"Age\"].mean()"
      ],
      "execution_count": null,
      "outputs": [
        {
          "output_type": "execute_result",
          "data": {
            "text/plain": [
              "29.69911764705882"
            ]
          },
          "metadata": {
            "tags": []
          },
          "execution_count": 11
        }
      ]
    },
    {
      "cell_type": "code",
      "metadata": {
        "colab": {
          "base_uri": "https://localhost:8080/"
        },
        "id": "VdziaXW5zpRt",
        "outputId": "5b3728a1-9e2d-4160-89e1-96ea3cb3ea54"
      },
      "source": [
        "titanic[\"Age\"].median()"
      ],
      "execution_count": null,
      "outputs": [
        {
          "output_type": "execute_result",
          "data": {
            "text/plain": [
              "28.0"
            ]
          },
          "metadata": {
            "tags": []
          },
          "execution_count": 16
        }
      ]
    },
    {
      "cell_type": "code",
      "metadata": {
        "colab": {
          "base_uri": "https://localhost:8080/",
          "height": 300
        },
        "id": "tkSFI087zvi2",
        "outputId": "c6d7496e-d58d-44ef-d0a5-bf43861d247a"
      },
      "source": [
        "titanic[[\"Age\", \"Fare\"]].describe()"
      ],
      "execution_count": null,
      "outputs": [
        {
          "output_type": "execute_result",
          "data": {
            "text/html": [
              "<div>\n",
              "<style scoped>\n",
              "    .dataframe tbody tr th:only-of-type {\n",
              "        vertical-align: middle;\n",
              "    }\n",
              "\n",
              "    .dataframe tbody tr th {\n",
              "        vertical-align: top;\n",
              "    }\n",
              "\n",
              "    .dataframe thead th {\n",
              "        text-align: right;\n",
              "    }\n",
              "</style>\n",
              "<table border=\"1\" class=\"dataframe\">\n",
              "  <thead>\n",
              "    <tr style=\"text-align: right;\">\n",
              "      <th></th>\n",
              "      <th>Age</th>\n",
              "      <th>Fare</th>\n",
              "    </tr>\n",
              "  </thead>\n",
              "  <tbody>\n",
              "    <tr>\n",
              "      <th>count</th>\n",
              "      <td>714.000000</td>\n",
              "      <td>891.000000</td>\n",
              "    </tr>\n",
              "    <tr>\n",
              "      <th>mean</th>\n",
              "      <td>29.699118</td>\n",
              "      <td>32.204208</td>\n",
              "    </tr>\n",
              "    <tr>\n",
              "      <th>std</th>\n",
              "      <td>14.526497</td>\n",
              "      <td>49.693429</td>\n",
              "    </tr>\n",
              "    <tr>\n",
              "      <th>min</th>\n",
              "      <td>0.420000</td>\n",
              "      <td>0.000000</td>\n",
              "    </tr>\n",
              "    <tr>\n",
              "      <th>25%</th>\n",
              "      <td>20.125000</td>\n",
              "      <td>7.910400</td>\n",
              "    </tr>\n",
              "    <tr>\n",
              "      <th>50%</th>\n",
              "      <td>28.000000</td>\n",
              "      <td>14.454200</td>\n",
              "    </tr>\n",
              "    <tr>\n",
              "      <th>75%</th>\n",
              "      <td>38.000000</td>\n",
              "      <td>31.000000</td>\n",
              "    </tr>\n",
              "    <tr>\n",
              "      <th>max</th>\n",
              "      <td>80.000000</td>\n",
              "      <td>512.329200</td>\n",
              "    </tr>\n",
              "  </tbody>\n",
              "</table>\n",
              "</div>"
            ],
            "text/plain": [
              "              Age        Fare\n",
              "count  714.000000  891.000000\n",
              "mean    29.699118   32.204208\n",
              "std     14.526497   49.693429\n",
              "min      0.420000    0.000000\n",
              "25%     20.125000    7.910400\n",
              "50%     28.000000   14.454200\n",
              "75%     38.000000   31.000000\n",
              "max     80.000000  512.329200"
            ]
          },
          "metadata": {
            "tags": []
          },
          "execution_count": 13
        }
      ]
    },
    {
      "cell_type": "code",
      "metadata": {
        "colab": {
          "base_uri": "https://localhost:8080/"
        },
        "id": "kxGB02dj0Cjj",
        "outputId": "40af1655-a537-4e72-e145-dd126446e32b"
      },
      "source": [
        "titanic[[\"Pclass\"]].value_counts()"
      ],
      "execution_count": null,
      "outputs": [
        {
          "output_type": "execute_result",
          "data": {
            "text/plain": [
              "Pclass\n",
              "3         491\n",
              "1         216\n",
              "2         184\n",
              "dtype: int64"
            ]
          },
          "metadata": {
            "tags": []
          },
          "execution_count": 17
        }
      ]
    },
    {
      "cell_type": "code",
      "metadata": {
        "colab": {
          "base_uri": "https://localhost:8080/",
          "height": 143
        },
        "id": "odVsC3U50TwX",
        "outputId": "ecebd8b9-d518-4f81-8f34-d494c6d05402"
      },
      "source": [
        "titanic[[\"Sex\", \"Age\"]].groupby(\"Sex\").mean()"
      ],
      "execution_count": null,
      "outputs": [
        {
          "output_type": "execute_result",
          "data": {
            "text/html": [
              "<div>\n",
              "<style scoped>\n",
              "    .dataframe tbody tr th:only-of-type {\n",
              "        vertical-align: middle;\n",
              "    }\n",
              "\n",
              "    .dataframe tbody tr th {\n",
              "        vertical-align: top;\n",
              "    }\n",
              "\n",
              "    .dataframe thead th {\n",
              "        text-align: right;\n",
              "    }\n",
              "</style>\n",
              "<table border=\"1\" class=\"dataframe\">\n",
              "  <thead>\n",
              "    <tr style=\"text-align: right;\">\n",
              "      <th></th>\n",
              "      <th>Age</th>\n",
              "    </tr>\n",
              "    <tr>\n",
              "      <th>Sex</th>\n",
              "      <th></th>\n",
              "    </tr>\n",
              "  </thead>\n",
              "  <tbody>\n",
              "    <tr>\n",
              "      <th>female</th>\n",
              "      <td>27.915709</td>\n",
              "    </tr>\n",
              "    <tr>\n",
              "      <th>male</th>\n",
              "      <td>30.726645</td>\n",
              "    </tr>\n",
              "  </tbody>\n",
              "</table>\n",
              "</div>"
            ],
            "text/plain": [
              "              Age\n",
              "Sex              \n",
              "female  27.915709\n",
              "male    30.726645"
            ]
          },
          "metadata": {
            "tags": []
          },
          "execution_count": 19
        }
      ]
    },
    {
      "cell_type": "code",
      "metadata": {
        "id": "lovkIoEG0uyK"
      },
      "source": [
        "import matplotlib.pyplot as plt"
      ],
      "execution_count": null,
      "outputs": []
    },
    {
      "cell_type": "code",
      "metadata": {
        "id": "OzUqZTxa1BDR"
      },
      "source": [
        "air_quality = pd.read_csv('https://raw.githubusercontent.com/pandas-dev/pandas/master/doc/data/air_quality_no2.csv', index_col=0, parse_dates=True)"
      ],
      "execution_count": null,
      "outputs": []
    },
    {
      "cell_type": "code",
      "metadata": {
        "colab": {
          "base_uri": "https://localhost:8080/",
          "height": 237
        },
        "id": "EiWJEBn81EOZ",
        "outputId": "798a6722-ecba-4c01-e70b-7154cea916f9"
      },
      "source": [
        "air_quality.head()"
      ],
      "execution_count": null,
      "outputs": [
        {
          "output_type": "execute_result",
          "data": {
            "text/html": [
              "<div>\n",
              "<style scoped>\n",
              "    .dataframe tbody tr th:only-of-type {\n",
              "        vertical-align: middle;\n",
              "    }\n",
              "\n",
              "    .dataframe tbody tr th {\n",
              "        vertical-align: top;\n",
              "    }\n",
              "\n",
              "    .dataframe thead th {\n",
              "        text-align: right;\n",
              "    }\n",
              "</style>\n",
              "<table border=\"1\" class=\"dataframe\">\n",
              "  <thead>\n",
              "    <tr style=\"text-align: right;\">\n",
              "      <th></th>\n",
              "      <th>station_antwerp</th>\n",
              "      <th>station_paris</th>\n",
              "      <th>station_london</th>\n",
              "    </tr>\n",
              "    <tr>\n",
              "      <th>datetime</th>\n",
              "      <th></th>\n",
              "      <th></th>\n",
              "      <th></th>\n",
              "    </tr>\n",
              "  </thead>\n",
              "  <tbody>\n",
              "    <tr>\n",
              "      <th>2019-05-07 02:00:00</th>\n",
              "      <td>NaN</td>\n",
              "      <td>NaN</td>\n",
              "      <td>23.0</td>\n",
              "    </tr>\n",
              "    <tr>\n",
              "      <th>2019-05-07 03:00:00</th>\n",
              "      <td>50.5</td>\n",
              "      <td>25.0</td>\n",
              "      <td>19.0</td>\n",
              "    </tr>\n",
              "    <tr>\n",
              "      <th>2019-05-07 04:00:00</th>\n",
              "      <td>45.0</td>\n",
              "      <td>27.7</td>\n",
              "      <td>19.0</td>\n",
              "    </tr>\n",
              "    <tr>\n",
              "      <th>2019-05-07 05:00:00</th>\n",
              "      <td>NaN</td>\n",
              "      <td>50.4</td>\n",
              "      <td>16.0</td>\n",
              "    </tr>\n",
              "    <tr>\n",
              "      <th>2019-05-07 06:00:00</th>\n",
              "      <td>NaN</td>\n",
              "      <td>61.9</td>\n",
              "      <td>NaN</td>\n",
              "    </tr>\n",
              "  </tbody>\n",
              "</table>\n",
              "</div>"
            ],
            "text/plain": [
              "                     station_antwerp  station_paris  station_london\n",
              "datetime                                                           \n",
              "2019-05-07 02:00:00              NaN            NaN            23.0\n",
              "2019-05-07 03:00:00             50.5           25.0            19.0\n",
              "2019-05-07 04:00:00             45.0           27.7            19.0\n",
              "2019-05-07 05:00:00              NaN           50.4            16.0\n",
              "2019-05-07 06:00:00              NaN           61.9             NaN"
            ]
          },
          "metadata": {
            "tags": []
          },
          "execution_count": 22
        }
      ]
    },
    {
      "cell_type": "code",
      "metadata": {
        "colab": {
          "base_uri": "https://localhost:8080/",
          "height": 303
        },
        "id": "M8gXPjJk1Kzf",
        "outputId": "d801ac04-6d5b-4a40-b61b-752b1eeb1d2d"
      },
      "source": [
        "air_quality.plot()"
      ],
      "execution_count": null,
      "outputs": [
        {
          "output_type": "execute_result",
          "data": {
            "text/plain": [
              "<matplotlib.axes._subplots.AxesSubplot at 0x7f98e29df278>"
            ]
          },
          "metadata": {
            "tags": []
          },
          "execution_count": 23
        },
        {
          "output_type": "display_data",
          "data": {
            "image/png": "[encoded data removed]",
            "text/plain": [
              "<Figure size 432x288 with 1 Axes>"
            ]
          },
          "metadata": {
            "tags": [],
            "needs_background": "light"
          }
        }
      ]
    },
    {
      "cell_type": "code",
      "metadata": {
        "colab": {
          "base_uri": "https://localhost:8080/",
          "height": 282
        },
        "id": "Wm_MZhet1RhZ",
        "outputId": "68b1f9e7-c298-406c-c2f3-015850255c8f"
      },
      "source": [
        "titanic[[\"PassengerId\",\"Age\"]].plot()"
      ],
      "execution_count": null,
      "outputs": [
        {
          "output_type": "execute_result",
          "data": {
            "text/plain": [
              "<matplotlib.axes._subplots.AxesSubplot at 0x7f98e23655f8>"
            ]
          },
          "metadata": {
            "tags": []
          },
          "execution_count": 28
        },
        {
          "output_type": "display_data",
          "data": {
            "image/png": "[encoded data removed]",
            "text/plain": [
              "<Figure size 432x288 with 1 Axes>"
            ]
          },
          "metadata": {
            "tags": [],
            "needs_background": "light"
          }
        }
      ]
    },
    {
      "cell_type": "code",
      "metadata": {
        "colab": {
          "base_uri": "https://localhost:8080/",
          "height": 297
        },
        "id": "KmbDYUg51plp",
        "outputId": "fb9733b6-a42b-4550-c7f0-3bd066805e7f"
      },
      "source": [
        "air_quality.plot.scatter(x=\"station_london\", y=\"station_paris\")"
      ],
      "execution_count": null,
      "outputs": [
        {
          "output_type": "execute_result",
          "data": {
            "text/plain": [
              "<matplotlib.axes._subplots.AxesSubplot at 0x7f98e2334978>"
            ]
          },
          "metadata": {
            "tags": []
          },
          "execution_count": 29
        },
        {
          "output_type": "display_data",
          "data": {
            "image/png": "[encoded data removed]",
            "text/plain": [
              "<Figure size 432x288 with 1 Axes>"
            ]
          },
          "metadata": {
            "tags": [],
            "needs_background": "light"
          }
        }
      ]
    },
    {
      "cell_type": "code",
      "metadata": {
        "colab": {
          "base_uri": "https://localhost:8080/",
          "height": 283
        },
        "id": "VsIPaj702RlC",
        "outputId": "fdf56476-e1eb-41cc-fdad-cbb7132a6ac4"
      },
      "source": [
        "air_quality.plot.box()"
      ],
      "execution_count": null,
      "outputs": [
        {
          "output_type": "execute_result",
          "data": {
            "text/plain": [
              "<matplotlib.axes._subplots.AxesSubplot at 0x7f98e22b3e80>"
            ]
          },
          "metadata": {
            "tags": []
          },
          "execution_count": 30
        },
        {
          "output_type": "display_data",
          "data": {
            "image/png": "[encoded data removed]",
            "text/plain": [
              "<Figure size 432x288 with 1 Axes>"
            ]
          },
          "metadata": {
            "tags": [],
            "needs_background": "light"
          }
        }
      ]
    },
    {
      "cell_type": "code",
      "metadata": {
        "colab": {
          "base_uri": "https://localhost:8080/",
          "height": 331
        },
        "id": "1JiWOT4T2wXG",
        "outputId": "f6c59420-f399-4cca-a2c4-aaa14c8a771e"
      },
      "source": [
        "air_quality.plot.area(figsize=(12, 4), subplots=True)"
      ],
      "execution_count": null,
      "outputs": [
        {
          "output_type": "execute_result",
          "data": {
            "text/plain": [
              "array([<matplotlib.axes._subplots.AxesSubplot object at 0x7f98e21607b8>,\n",
              "       <matplotlib.axes._subplots.AxesSubplot object at 0x7f98e0e18940>,\n",
              "       <matplotlib.axes._subplots.AxesSubplot object at 0x7f98e0dcc940>],\n",
              "      dtype=object)"
            ]
          },
          "metadata": {
            "tags": []
          },
          "execution_count": 33
        },
        {
          "output_type": "display_data",
          "data": {
            "image/png": "[encoded data removed]",
            "text/plain": [
              "<Figure size 864x288 with 3 Axes>"
            ]
          },
          "metadata": {
            "tags": [],
            "needs_background": "light"
          }
        }
      ]
    },
    {
      "cell_type": "code",
      "metadata": {
        "id": "2YUqEBmB3Yzs"
      },
      "source": [
        "air_quality[\"london_mg_per_cubic\"] = air_quality[\"station_london\"]* 1.882"
      ],
      "execution_count": null,
      "outputs": []
    },
    {
      "cell_type": "code",
      "metadata": {
        "colab": {
          "base_uri": "https://localhost:8080/",
          "height": 344
        },
        "id": "_Kyrt9Fi3tlg",
        "outputId": "8cf066dd-d597-4a3d-eca5-e64a1616d341"
      },
      "source": [
        "air_quality.head()"
      ],
      "execution_count": null,
      "outputs": [
        {
          "output_type": "execute_result",
          "data": {
            "text/html": [
              "<div>\n",
              "<style scoped>\n",
              "    .dataframe tbody tr th:only-of-type {\n",
              "        vertical-align: middle;\n",
              "    }\n",
              "\n",
              "    .dataframe tbody tr th {\n",
              "        vertical-align: top;\n",
              "    }\n",
              "\n",
              "    .dataframe thead th {\n",
              "        text-align: right;\n",
              "    }\n",
              "</style>\n",
              "<table border=\"1\" class=\"dataframe\">\n",
              "  <thead>\n",
              "    <tr style=\"text-align: right;\">\n",
              "      <th></th>\n",
              "      <th>station_antwerp</th>\n",
              "      <th>station_paris</th>\n",
              "      <th>station_london</th>\n",
              "      <th>london_mg_per_cubic</th>\n",
              "    </tr>\n",
              "    <tr>\n",
              "      <th>datetime</th>\n",
              "      <th></th>\n",
              "      <th></th>\n",
              "      <th></th>\n",
              "      <th></th>\n",
              "    </tr>\n",
              "  </thead>\n",
              "  <tbody>\n",
              "    <tr>\n",
              "      <th>2019-05-07 02:00:00</th>\n",
              "      <td>NaN</td>\n",
              "      <td>NaN</td>\n",
              "      <td>23.0</td>\n",
              "      <td>43.286</td>\n",
              "    </tr>\n",
              "    <tr>\n",
              "      <th>2019-05-07 03:00:00</th>\n",
              "      <td>50.5</td>\n",
              "      <td>25.0</td>\n",
              "      <td>19.0</td>\n",
              "      <td>35.758</td>\n",
              "    </tr>\n",
              "    <tr>\n",
              "      <th>2019-05-07 04:00:00</th>\n",
              "      <td>45.0</td>\n",
              "      <td>27.7</td>\n",
              "      <td>19.0</td>\n",
              "      <td>35.758</td>\n",
              "    </tr>\n",
              "    <tr>\n",
              "      <th>2019-05-07 05:00:00</th>\n",
              "      <td>NaN</td>\n",
              "      <td>50.4</td>\n",
              "      <td>16.0</td>\n",
              "      <td>30.112</td>\n",
              "    </tr>\n",
              "    <tr>\n",
              "      <th>2019-05-07 06:00:00</th>\n",
              "      <td>NaN</td>\n",
              "      <td>61.9</td>\n",
              "      <td>NaN</td>\n",
              "      <td>NaN</td>\n",
              "    </tr>\n",
              "  </tbody>\n",
              "</table>\n",
              "</div>"
            ],
            "text/plain": [
              "                     station_antwerp  ...  london_mg_per_cubic\n",
              "datetime                              ...                     \n",
              "2019-05-07 02:00:00              NaN  ...               43.286\n",
              "2019-05-07 03:00:00             50.5  ...               35.758\n",
              "2019-05-07 04:00:00             45.0  ...               35.758\n",
              "2019-05-07 05:00:00              NaN  ...               30.112\n",
              "2019-05-07 06:00:00              NaN  ...                  NaN\n",
              "\n",
              "[5 rows x 4 columns]"
            ]
          },
          "metadata": {
            "tags": []
          },
          "execution_count": 35
        }
      ]
    },
    {
      "cell_type": "code",
      "metadata": {
        "id": "hfK23MDp3ykt"
      },
      "source": [
        "air_quality[\"ratio_paris_london\"] = air_quality[\"station_paris\"] / air_quality[\"station_london\"]"
      ],
      "execution_count": null,
      "outputs": []
    },
    {
      "cell_type": "code",
      "metadata": {
        "colab": {
          "base_uri": "https://localhost:8080/",
          "height": 588
        },
        "id": "yPXWwrGP4LOj",
        "outputId": "8994699a-e5bf-4cc3-c662-ec5c06cf554d"
      },
      "source": [
        "air_quality[air_quality[\"ratio_paris_london\"] > 1][0:10]"
      ],
      "execution_count": null,
      "outputs": [
        {
          "output_type": "execute_result",
          "data": {
            "text/html": [
              "<div>\n",
              "<style scoped>\n",
              "    .dataframe tbody tr th:only-of-type {\n",
              "        vertical-align: middle;\n",
              "    }\n",
              "\n",
              "    .dataframe tbody tr th {\n",
              "        vertical-align: top;\n",
              "    }\n",
              "\n",
              "    .dataframe thead th {\n",
              "        text-align: right;\n",
              "    }\n",
              "</style>\n",
              "<table border=\"1\" class=\"dataframe\">\n",
              "  <thead>\n",
              "    <tr style=\"text-align: right;\">\n",
              "      <th></th>\n",
              "      <th>station_antwerp</th>\n",
              "      <th>station_paris</th>\n",
              "      <th>station_london</th>\n",
              "      <th>london_mg_per_cubic</th>\n",
              "      <th>ratio_paris_london</th>\n",
              "    </tr>\n",
              "    <tr>\n",
              "      <th>datetime</th>\n",
              "      <th></th>\n",
              "      <th></th>\n",
              "      <th></th>\n",
              "      <th></th>\n",
              "      <th></th>\n",
              "    </tr>\n",
              "  </thead>\n",
              "  <tbody>\n",
              "    <tr>\n",
              "      <th>2019-05-07 03:00:00</th>\n",
              "      <td>50.5</td>\n",
              "      <td>25.0</td>\n",
              "      <td>19.0</td>\n",
              "      <td>35.758</td>\n",
              "      <td>1.315789</td>\n",
              "    </tr>\n",
              "    <tr>\n",
              "      <th>2019-05-07 04:00:00</th>\n",
              "      <td>45.0</td>\n",
              "      <td>27.7</td>\n",
              "      <td>19.0</td>\n",
              "      <td>35.758</td>\n",
              "      <td>1.457895</td>\n",
              "    </tr>\n",
              "    <tr>\n",
              "      <th>2019-05-07 05:00:00</th>\n",
              "      <td>NaN</td>\n",
              "      <td>50.4</td>\n",
              "      <td>16.0</td>\n",
              "      <td>30.112</td>\n",
              "      <td>3.150000</td>\n",
              "    </tr>\n",
              "    <tr>\n",
              "      <th>2019-05-07 07:00:00</th>\n",
              "      <td>NaN</td>\n",
              "      <td>72.4</td>\n",
              "      <td>26.0</td>\n",
              "      <td>48.932</td>\n",
              "      <td>2.784615</td>\n",
              "    </tr>\n",
              "    <tr>\n",
              "      <th>2019-05-07 08:00:00</th>\n",
              "      <td>NaN</td>\n",
              "      <td>77.7</td>\n",
              "      <td>32.0</td>\n",
              "      <td>60.224</td>\n",
              "      <td>2.428125</td>\n",
              "    </tr>\n",
              "    <tr>\n",
              "      <th>2019-05-07 09:00:00</th>\n",
              "      <td>NaN</td>\n",
              "      <td>67.9</td>\n",
              "      <td>32.0</td>\n",
              "      <td>60.224</td>\n",
              "      <td>2.121875</td>\n",
              "    </tr>\n",
              "    <tr>\n",
              "      <th>2019-05-07 10:00:00</th>\n",
              "      <td>NaN</td>\n",
              "      <td>56.0</td>\n",
              "      <td>28.0</td>\n",
              "      <td>52.696</td>\n",
              "      <td>2.000000</td>\n",
              "    </tr>\n",
              "    <tr>\n",
              "      <th>2019-05-07 11:00:00</th>\n",
              "      <td>NaN</td>\n",
              "      <td>34.5</td>\n",
              "      <td>21.0</td>\n",
              "      <td>39.522</td>\n",
              "      <td>1.642857</td>\n",
              "    </tr>\n",
              "    <tr>\n",
              "      <th>2019-05-07 19:00:00</th>\n",
              "      <td>NaN</td>\n",
              "      <td>22.3</td>\n",
              "      <td>20.0</td>\n",
              "      <td>37.640</td>\n",
              "      <td>1.115000</td>\n",
              "    </tr>\n",
              "    <tr>\n",
              "      <th>2019-05-07 20:00:00</th>\n",
              "      <td>NaN</td>\n",
              "      <td>21.4</td>\n",
              "      <td>20.0</td>\n",
              "      <td>37.640</td>\n",
              "      <td>1.070000</td>\n",
              "    </tr>\n",
              "  </tbody>\n",
              "</table>\n",
              "</div>"
            ],
            "text/plain": [
              "                     station_antwerp  ...  ratio_paris_london\n",
              "datetime                              ...                    \n",
              "2019-05-07 03:00:00             50.5  ...            1.315789\n",
              "2019-05-07 04:00:00             45.0  ...            1.457895\n",
              "2019-05-07 05:00:00              NaN  ...            3.150000\n",
              "2019-05-07 07:00:00              NaN  ...            2.784615\n",
              "2019-05-07 08:00:00              NaN  ...            2.428125\n",
              "2019-05-07 09:00:00              NaN  ...            2.121875\n",
              "2019-05-07 10:00:00              NaN  ...            2.000000\n",
              "2019-05-07 11:00:00              NaN  ...            1.642857\n",
              "2019-05-07 19:00:00              NaN  ...            1.115000\n",
              "2019-05-07 20:00:00              NaN  ...            1.070000\n",
              "\n",
              "[10 rows x 5 columns]"
            ]
          },
          "metadata": {
            "tags": []
          },
          "execution_count": 47
        }
      ]
    },
    {
      "cell_type": "code",
      "metadata": {
        "id": "c5xpHU4R5Jif"
      },
      "source": [
        "pd.set_option('display.max_rows', 500)"
      ],
      "execution_count": null,
      "outputs": []
    },
    {
      "cell_type": "code",
      "metadata": {
        "id": "EhOlzjVp5bKv"
      },
      "source": [
        "titanic.to_excel('titanic.xlsx', sheet_name='passengers')"
      ],
      "execution_count": null,
      "outputs": []
    },
    {
      "cell_type": "code",
      "metadata": {
        "colab": {
          "base_uri": "https://localhost:8080/"
        },
        "id": "Q-KigpLT56Ck",
        "outputId": "af1e7577-e064-45ee-827c-e2b6c97fa8cd"
      },
      "source": [
        "from google.colab import drive\n",
        "drive.mount('/content/drive')"
      ],
      "execution_count": null,
      "outputs": [
        {
          "output_type": "stream",
          "text": [
            "Mounted at /content/drive\n"
          ],
          "name": "stdout"
        }
      ]
    },
    {
      "cell_type": "code",
      "metadata": {
        "id": "pKDexJvk5wS0"
      },
      "source": [
        "test_plik = pd.read_excel('TEST(1).xlsx')"
      ],
      "execution_count": null,
      "outputs": []
    },
    {
      "cell_type": "code",
      "metadata": {
        "colab": {
          "base_uri": "https://localhost:8080/",
          "height": 400
        },
        "id": "YWFL_5QB8hgk",
        "outputId": "650bdc69-b410-4bfa-edb4-2e16b8682b9f"
      },
      "source": [
        "test_plik.head()"
      ],
      "execution_count": null,
      "outputs": [
        {
          "output_type": "execute_result",
          "data": {
            "text/html": [
              "<div>\n",
              "<style scoped>\n",
              "    .dataframe tbody tr th:only-of-type {\n",
              "        vertical-align: middle;\n",
              "    }\n",
              "\n",
              "    .dataframe tbody tr th {\n",
              "        vertical-align: top;\n",
              "    }\n",
              "\n",
              "    .dataframe thead th {\n",
              "        text-align: right;\n",
              "    }\n",
              "</style>\n",
              "<table border=\"1\" class=\"dataframe\">\n",
              "  <thead>\n",
              "    <tr style=\"text-align: right;\">\n",
              "      <th></th>\n",
              "      <th>SDESC</th>\n",
              "      <th>SDESC.1</th>\n",
              "      <th>M 2016 02</th>\n",
              "      <th>M 2016 03</th>\n",
              "      <th>M 2016 04</th>\n",
              "      <th>M 2016 05</th>\n",
              "      <th>M 2016 06</th>\n",
              "      <th>M 2016 07</th>\n",
              "      <th>M 2016 08</th>\n",
              "      <th>M 2016 09</th>\n",
              "      <th>M 2016 10</th>\n",
              "      <th>M 2016 11</th>\n",
              "      <th>M 2016 12</th>\n",
              "      <th>M 2017 01</th>\n",
              "      <th>M 2017 02</th>\n",
              "      <th>M 2017 03</th>\n",
              "      <th>M 2017 04</th>\n",
              "      <th>M 2017 05</th>\n",
              "      <th>M 2017 06</th>\n",
              "      <th>M 2017 07</th>\n",
              "      <th>M 2017 08</th>\n",
              "      <th>M 2017 09</th>\n",
              "      <th>M 2017 10</th>\n",
              "      <th>M 2017 11</th>\n",
              "      <th>M 2017 12</th>\n",
              "      <th>M 2018 01</th>\n",
              "      <th>M 2018 02</th>\n",
              "      <th>M 2018 03</th>\n",
              "      <th>M 2018 04</th>\n",
              "      <th>M 2018 05</th>\n",
              "      <th>M 2018 06</th>\n",
              "      <th>M 2018 07</th>\n",
              "      <th>M 2018 08</th>\n",
              "      <th>M 2018 09</th>\n",
              "      <th>M 2018 10</th>\n",
              "      <th>M 2018 11</th>\n",
              "      <th>M 2018 12</th>\n",
              "      <th>M 2019 01</th>\n",
              "      <th>M 2019 02</th>\n",
              "    </tr>\n",
              "  </thead>\n",
              "  <tbody>\n",
              "    <tr>\n",
              "      <th>0</th>\n",
              "      <td>Client</td>\n",
              "      <td>FOOD KOCHZUTATEN SAUCEN</td>\n",
              "      <td>16780106.0</td>\n",
              "      <td>17968090.0</td>\n",
              "      <td>18412366.0</td>\n",
              "      <td>17247896.0</td>\n",
              "      <td>15696518.0</td>\n",
              "      <td>14732788.0</td>\n",
              "      <td>15127142.0</td>\n",
              "      <td>15332893.0</td>\n",
              "      <td>15990348.0</td>\n",
              "      <td>15961295.0</td>\n",
              "      <td>20463608.0</td>\n",
              "      <td>17031276.0</td>\n",
              "      <td>15884583.0</td>\n",
              "      <td>18237946.0</td>\n",
              "      <td>17599956.0</td>\n",
              "      <td>17193978.0</td>\n",
              "      <td>15137642.0</td>\n",
              "      <td>14705057.0</td>\n",
              "      <td>14859496.0</td>\n",
              "      <td>16342089.0</td>\n",
              "      <td>15184193.0</td>\n",
              "      <td>16289945.0</td>\n",
              "      <td>20205132.0</td>\n",
              "      <td>16723032.0</td>\n",
              "      <td>15871344.0</td>\n",
              "      <td>19347804.0</td>\n",
              "      <td>16306950.0</td>\n",
              "      <td>17368384.0</td>\n",
              "      <td>16223543.0</td>\n",
              "      <td>14118948.0</td>\n",
              "      <td>15390839.0</td>\n",
              "      <td>15384734.0</td>\n",
              "      <td>15575883.0</td>\n",
              "      <td>16535673.0</td>\n",
              "      <td>20297104.0</td>\n",
              "      <td>17063648.0</td>\n",
              "      <td>15216257.0</td>\n",
              "    </tr>\n",
              "    <tr>\n",
              "      <th>1</th>\n",
              "      <td>NaN</td>\n",
              "      <td>FOOD KOCHZUTATEN SUPPEN/BOUILLON</td>\n",
              "      <td>9678804.0</td>\n",
              "      <td>8861282.0</td>\n",
              "      <td>8059552.0</td>\n",
              "      <td>6759229.0</td>\n",
              "      <td>6479888.0</td>\n",
              "      <td>5344883.0</td>\n",
              "      <td>5835232.5</td>\n",
              "      <td>7178116.5</td>\n",
              "      <td>9581556.0</td>\n",
              "      <td>9989582.0</td>\n",
              "      <td>11826642.0</td>\n",
              "      <td>11121564.0</td>\n",
              "      <td>8629117.0</td>\n",
              "      <td>8304788.0</td>\n",
              "      <td>6897115.0</td>\n",
              "      <td>6647591.5</td>\n",
              "      <td>5063370.0</td>\n",
              "      <td>5451536.0</td>\n",
              "      <td>6068294.0</td>\n",
              "      <td>8679413.0</td>\n",
              "      <td>8428303.0</td>\n",
              "      <td>10083420.0</td>\n",
              "      <td>11731733.0</td>\n",
              "      <td>10312494.0</td>\n",
              "      <td>9348774.0</td>\n",
              "      <td>9343034.0</td>\n",
              "      <td>6265022.0</td>\n",
              "      <td>6465885.5</td>\n",
              "      <td>5701832.5</td>\n",
              "      <td>4981982.0</td>\n",
              "      <td>5846020.0</td>\n",
              "      <td>7192807.0</td>\n",
              "      <td>8928036.0</td>\n",
              "      <td>9783190.0</td>\n",
              "      <td>11486712.0</td>\n",
              "      <td>10371989.0</td>\n",
              "      <td>8558724.0</td>\n",
              "    </tr>\n",
              "    <tr>\n",
              "      <th>2</th>\n",
              "      <td>NaN</td>\n",
              "      <td>FOOD KOCHZUTATEN WUERZEN</td>\n",
              "      <td>22986424.0</td>\n",
              "      <td>26092964.0</td>\n",
              "      <td>25382416.0</td>\n",
              "      <td>24169064.0</td>\n",
              "      <td>24194540.0</td>\n",
              "      <td>25013418.0</td>\n",
              "      <td>24641738.0</td>\n",
              "      <td>23845698.0</td>\n",
              "      <td>24375806.0</td>\n",
              "      <td>25202524.0</td>\n",
              "      <td>34112736.0</td>\n",
              "      <td>24433044.0</td>\n",
              "      <td>22582926.0</td>\n",
              "      <td>25434536.0</td>\n",
              "      <td>25694362.0</td>\n",
              "      <td>25116454.0</td>\n",
              "      <td>25213252.0</td>\n",
              "      <td>25141668.0</td>\n",
              "      <td>24485782.0</td>\n",
              "      <td>24729566.0</td>\n",
              "      <td>23569510.0</td>\n",
              "      <td>25583788.0</td>\n",
              "      <td>34142492.0</td>\n",
              "      <td>25136848.0</td>\n",
              "      <td>22952162.0</td>\n",
              "      <td>28340360.0</td>\n",
              "      <td>23312332.0</td>\n",
              "      <td>25966378.0</td>\n",
              "      <td>26600316.0</td>\n",
              "      <td>25210376.0</td>\n",
              "      <td>25604002.0</td>\n",
              "      <td>23685922.0</td>\n",
              "      <td>25125828.0</td>\n",
              "      <td>26747264.0</td>\n",
              "      <td>35146320.0</td>\n",
              "      <td>25577180.0</td>\n",
              "      <td>22807208.0</td>\n",
              "    </tr>\n",
              "    <tr>\n",
              "      <th>3</th>\n",
              "      <td>NaN</td>\n",
              "      <td>FOOD NAHRUNGSMITTEL BROTAUFSTRICH</td>\n",
              "      <td>13630003.0</td>\n",
              "      <td>14090186.0</td>\n",
              "      <td>13490601.0</td>\n",
              "      <td>13051582.0</td>\n",
              "      <td>12104562.0</td>\n",
              "      <td>12197877.0</td>\n",
              "      <td>11889266.0</td>\n",
              "      <td>12814011.0</td>\n",
              "      <td>13363665.0</td>\n",
              "      <td>14543480.0</td>\n",
              "      <td>16257633.0</td>\n",
              "      <td>13995000.0</td>\n",
              "      <td>13610231.0</td>\n",
              "      <td>14266207.0</td>\n",
              "      <td>13649909.0</td>\n",
              "      <td>13228648.0</td>\n",
              "      <td>12502409.0</td>\n",
              "      <td>12483828.0</td>\n",
              "      <td>12129161.0</td>\n",
              "      <td>13519140.0</td>\n",
              "      <td>13487767.0</td>\n",
              "      <td>14604583.0</td>\n",
              "      <td>16379745.0</td>\n",
              "      <td>14606587.0</td>\n",
              "      <td>14005078.0</td>\n",
              "      <td>16492738.0</td>\n",
              "      <td>12128528.0</td>\n",
              "      <td>13794567.0</td>\n",
              "      <td>12985943.0</td>\n",
              "      <td>12013795.0</td>\n",
              "      <td>11948112.0</td>\n",
              "      <td>12730158.0</td>\n",
              "      <td>13557303.0</td>\n",
              "      <td>14314335.0</td>\n",
              "      <td>16168146.0</td>\n",
              "      <td>14104395.0</td>\n",
              "      <td>13704147.0</td>\n",
              "    </tr>\n",
              "    <tr>\n",
              "      <th>4</th>\n",
              "      <td>NaN</td>\n",
              "      <td>FOOD NAHRUNGSMITTEL CEREALIEN</td>\n",
              "      <td>11527614.0</td>\n",
              "      <td>11492539.0</td>\n",
              "      <td>11937754.0</td>\n",
              "      <td>11864612.0</td>\n",
              "      <td>12016953.0</td>\n",
              "      <td>10713748.0</td>\n",
              "      <td>11369377.0</td>\n",
              "      <td>11819236.0</td>\n",
              "      <td>11493131.0</td>\n",
              "      <td>11124777.0</td>\n",
              "      <td>10521897.0</td>\n",
              "      <td>11322474.0</td>\n",
              "      <td>10903174.0</td>\n",
              "      <td>12276087.0</td>\n",
              "      <td>10850566.0</td>\n",
              "      <td>11987436.0</td>\n",
              "      <td>11676857.0</td>\n",
              "      <td>10780750.0</td>\n",
              "      <td>11350288.0</td>\n",
              "      <td>11475588.0</td>\n",
              "      <td>10809487.0</td>\n",
              "      <td>10894391.0</td>\n",
              "      <td>9977349.0</td>\n",
              "      <td>11195553.0</td>\n",
              "      <td>11068552.0</td>\n",
              "      <td>12140702.0</td>\n",
              "      <td>10886687.0</td>\n",
              "      <td>11927227.0</td>\n",
              "      <td>12122563.0</td>\n",
              "      <td>10310362.0</td>\n",
              "      <td>11483857.0</td>\n",
              "      <td>11269721.0</td>\n",
              "      <td>11166515.0</td>\n",
              "      <td>11384498.0</td>\n",
              "      <td>10057381.0</td>\n",
              "      <td>11410480.0</td>\n",
              "      <td>10874758.0</td>\n",
              "    </tr>\n",
              "  </tbody>\n",
              "</table>\n",
              "</div>"
            ],
            "text/plain": [
              "    SDESC                            SDESC.1  ...   M 2019 01   M 2019 02\n",
              "0  Client            FOOD KOCHZUTATEN SAUCEN  ...  17063648.0  15216257.0\n",
              "1     NaN   FOOD KOCHZUTATEN SUPPEN/BOUILLON  ...  10371989.0   8558724.0\n",
              "2     NaN           FOOD KOCHZUTATEN WUERZEN  ...  25577180.0  22807208.0\n",
              "3     NaN  FOOD NAHRUNGSMITTEL BROTAUFSTRICH  ...  14104395.0  13704147.0\n",
              "4     NaN      FOOD NAHRUNGSMITTEL CEREALIEN  ...  11410480.0  10874758.0\n",
              "\n",
              "[5 rows x 39 columns]"
            ]
          },
          "metadata": {
            "tags": []
          },
          "execution_count": 61
        }
      ]
    },
    {
      "cell_type": "code",
      "metadata": {
        "colab": {
          "base_uri": "https://localhost:8080/",
          "height": 300
        },
        "id": "lVye671f77wz",
        "outputId": "afe6f94e-3ea6-4fd7-e819-c649ff20589e"
      },
      "source": [
        "test_plik[['SDESC', 'M 2016 02']].describe()"
      ],
      "execution_count": null,
      "outputs": [
        {
          "output_type": "execute_result",
          "data": {
            "text/html": [
              "<div>\n",
              "<style scoped>\n",
              "    .dataframe tbody tr th:only-of-type {\n",
              "        vertical-align: middle;\n",
              "    }\n",
              "\n",
              "    .dataframe tbody tr th {\n",
              "        vertical-align: top;\n",
              "    }\n",
              "\n",
              "    .dataframe thead th {\n",
              "        text-align: right;\n",
              "    }\n",
              "</style>\n",
              "<table border=\"1\" class=\"dataframe\">\n",
              "  <thead>\n",
              "    <tr style=\"text-align: right;\">\n",
              "      <th></th>\n",
              "      <th>M 2016 02</th>\n",
              "    </tr>\n",
              "  </thead>\n",
              "  <tbody>\n",
              "    <tr>\n",
              "      <th>count</th>\n",
              "      <td>9.800000e+01</td>\n",
              "    </tr>\n",
              "    <tr>\n",
              "      <th>mean</th>\n",
              "      <td>2.068712e+07</td>\n",
              "    </tr>\n",
              "    <tr>\n",
              "      <th>std</th>\n",
              "      <td>2.670860e+07</td>\n",
              "    </tr>\n",
              "    <tr>\n",
              "      <th>min</th>\n",
              "      <td>4.865720e+04</td>\n",
              "    </tr>\n",
              "    <tr>\n",
              "      <th>25%</th>\n",
              "      <td>3.852131e+06</td>\n",
              "    </tr>\n",
              "    <tr>\n",
              "      <th>50%</th>\n",
              "      <td>1.183966e+07</td>\n",
              "    </tr>\n",
              "    <tr>\n",
              "      <th>75%</th>\n",
              "      <td>2.471240e+07</td>\n",
              "    </tr>\n",
              "    <tr>\n",
              "      <th>max</th>\n",
              "      <td>1.444255e+08</td>\n",
              "    </tr>\n",
              "  </tbody>\n",
              "</table>\n",
              "</div>"
            ],
            "text/plain": [
              "          M 2016 02\n",
              "count  9.800000e+01\n",
              "mean   2.068712e+07\n",
              "std    2.670860e+07\n",
              "min    4.865720e+04\n",
              "25%    3.852131e+06\n",
              "50%    1.183966e+07\n",
              "75%    2.471240e+07\n",
              "max    1.444255e+08"
            ]
          },
          "metadata": {
            "tags": []
          },
          "execution_count": 65
        }
      ]
    },
    {
      "cell_type": "code",
      "metadata": {
        "id": "M_dz3LuF8668"
      },
      "source": [
        ""
      ],
      "execution_count": null,
      "outputs": []
    }
  ]
}